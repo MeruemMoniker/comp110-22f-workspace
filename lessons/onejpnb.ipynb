{
 "cells": [
  {
   "cell_type": "code",
   "execution_count": null,
   "metadata": {},
   "outputs": [],
   "source": [
    "\n"
   ]
  },
  {
   "cell_type": "code",
   "execution_count": 17,
   "metadata": {
    "tags": []
   },
   "outputs": [
    {
     "name": "stdout",
     "output_type": "stream",
     "text": [
      "hello worldhello worldhello world \n",
      "sicioioip\n"
     ]
    }
   ],
   "source": [
    "yah = ((\"hello world\")* 3)\n",
    "scree = yah.ljust(len(yah)+1)\n",
    "print(scree)\n",
    "string = \"scoop\"\n",
    "splitter = \"i\".join(string)\n",
    "print(splitter)"
   ]
  }
 ],
 "metadata": {
  "kernelspec": {
   "display_name": "Python 3",
   "language": "python",
   "name": "python3"
  },
  "language_info": {
   "codemirror_mode": {
    "name": "ipython",
    "version": 3
   },
   "file_extension": ".py",
   "mimetype": "text/x-python",
   "name": "python",
   "nbconvert_exporter": "python",
   "pygments_lexer": "ipython3",
   "version": "3.11.0"
  },
  "orig_nbformat": 4,
  "vscode": {
   "interpreter": {
    "hash": "f1fbbcabd01037c0ce714b92d77db47d16d60111ab5d118b241722bdc5c00b53"
   }
  }
 },
 "nbformat": 4,
 "nbformat_minor": 2
}
